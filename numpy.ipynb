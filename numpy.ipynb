{
  "nbformat": 4,
  "nbformat_minor": 0,
  "metadata": {
    "colab": {
      "name": "numpy",
      "provenance": [],
      "authorship_tag": "ABX9TyOruywEKPqUX8oYSXtQbLum",
      "include_colab_link": true
    },
    "kernelspec": {
      "name": "python3",
      "display_name": "Python 3"
    },
    "language_info": {
      "name": "python"
    }
  },
  "cells": [
    {
      "cell_type": "markdown",
      "metadata": {
        "id": "view-in-github",
        "colab_type": "text"
      },
      "source": [
        "<a href=\"https://colab.research.google.com/github/Narmadakumbhkar/numpy/blob/main/numpy.ipynb\" target=\"_parent\"><img src=\"https://colab.research.google.com/assets/colab-badge.svg\" alt=\"Open In Colab\"/></a>"
      ]
    },
    {
      "cell_type": "markdown",
      "source": [
        " #Numpy in python"
      ],
      "metadata": {
        "id": "74odNVv4zcd7"
      }
    },
    {
      "cell_type": "code",
      "source": [
        "#single dimensional array\n",
        "\n",
        "import numpy as np\n",
        "n1=np.array([10,20,30,40])\n",
        "n1"
      ],
      "metadata": {
        "colab": {
          "base_uri": "https://localhost:8080/"
        },
        "id": "qpJHoIRvzwXS",
        "outputId": "faff0c0b-7f86-40fd-8b67-9578a0161fc7"
      },
      "execution_count": null,
      "outputs": [
        {
          "output_type": "execute_result",
          "data": {
            "text/plain": [
              "array([10, 20, 30, 40])"
            ]
          },
          "metadata": {},
          "execution_count": 1
        }
      ]
    },
    {
      "cell_type": "code",
      "source": [
        "#multi dimensional array\n",
        "\n",
        "import numpy as np\n",
        "n2=np.array([[10,20,30,40],[40,30,20,10]])\n",
        "n2"
      ],
      "metadata": {
        "colab": {
          "base_uri": "https://localhost:8080/"
        },
        "id": "s-OYGos40pyf",
        "outputId": "30869cbd-3055-443f-942b-3c6c102d63f6"
      },
      "execution_count": null,
      "outputs": [
        {
          "output_type": "execute_result",
          "data": {
            "text/plain": [
              "array([[10, 20, 30, 40],\n",
              "       [40, 30, 20, 10]])"
            ]
          },
          "metadata": {},
          "execution_count": 2
        }
      ]
    },
    {
      "cell_type": "code",
      "source": [
        "import numpy as np\n",
        "l1=[10,20,30,40]\n",
        "np.array(l1)\n",
        "n1"
      ],
      "metadata": {
        "colab": {
          "base_uri": "https://localhost:8080/"
        },
        "id": "F-yX3d9t1E1z",
        "outputId": "478b3ee7-cefc-46a2-a6c3-6db8cfa41dee"
      },
      "execution_count": null,
      "outputs": [
        {
          "output_type": "execute_result",
          "data": {
            "text/plain": [
              "array([10, 20, 30, 40])"
            ]
          },
          "metadata": {},
          "execution_count": 3
        }
      ]
    },
    {
      "cell_type": "code",
      "source": [
        "type(n1)"
      ],
      "metadata": {
        "colab": {
          "base_uri": "https://localhost:8080/"
        },
        "id": "8Ppnv6mX4QfE",
        "outputId": "b97b62ee-4adf-4ec4-dd51-319c4651f2fc"
      },
      "execution_count": null,
      "outputs": [
        {
          "output_type": "execute_result",
          "data": {
            "text/plain": [
              "numpy.ndarray"
            ]
          },
          "metadata": {},
          "execution_count": 4
        }
      ]
    },
    {
      "cell_type": "code",
      "source": [
        "np.array([[1,2,3,4],[4,3,2,1]])\n"
      ],
      "metadata": {
        "colab": {
          "base_uri": "https://localhost:8080/"
        },
        "id": "_wMaoHxq4rn7",
        "outputId": "ee3b905d-f6f7-48cb-a561-25e68fcfbfcb"
      },
      "execution_count": null,
      "outputs": [
        {
          "output_type": "execute_result",
          "data": {
            "text/plain": [
              "array([[1, 2, 3, 4],\n",
              "       [4, 3, 2, 1]])"
            ]
          },
          "metadata": {},
          "execution_count": 5
        }
      ]
    },
    {
      "cell_type": "code",
      "source": [
        "n2\n",
        "type(n2)"
      ],
      "metadata": {
        "colab": {
          "base_uri": "https://localhost:8080/"
        },
        "id": "yb-5I1gi5DzF",
        "outputId": "16a6f256-7c0f-4971-c647-b3b7080e12e7"
      },
      "execution_count": null,
      "outputs": [
        {
          "output_type": "execute_result",
          "data": {
            "text/plain": [
              "numpy.ndarray"
            ]
          },
          "metadata": {},
          "execution_count": 6
        }
      ]
    },
    {
      "cell_type": "code",
      "source": [
        "#initializing numpy array with zeros\n",
        "\n",
        "import numpy as np\n",
        "n1=np.zeros((1,2))\n",
        "n1"
      ],
      "metadata": {
        "colab": {
          "base_uri": "https://localhost:8080/"
        },
        "id": "LvYt0Dl15RUi",
        "outputId": "20b0e7e9-cf22-4d7c-b1ec-250fcdd370bd"
      },
      "execution_count": null,
      "outputs": [
        {
          "output_type": "execute_result",
          "data": {
            "text/plain": [
              "array([[0., 0.]])"
            ]
          },
          "metadata": {},
          "execution_count": 7
        }
      ]
    },
    {
      "cell_type": "code",
      "source": [
        "n2=np.zeros([5,5])\n",
        "n2"
      ],
      "metadata": {
        "colab": {
          "base_uri": "https://localhost:8080/"
        },
        "id": "yvRB_R1v5yqi",
        "outputId": "b2c822a6-1dc8-4328-b21b-d39815dee5d4"
      },
      "execution_count": null,
      "outputs": [
        {
          "output_type": "execute_result",
          "data": {
            "text/plain": [
              "array([[0., 0., 0., 0., 0.],\n",
              "       [0., 0., 0., 0., 0.],\n",
              "       [0., 0., 0., 0., 0.],\n",
              "       [0., 0., 0., 0., 0.],\n",
              "       [0., 0., 0., 0., 0.]])"
            ]
          },
          "metadata": {},
          "execution_count": 8
        }
      ]
    },
    {
      "cell_type": "code",
      "source": [
        "n3=np.zeros((2,3))\n",
        "n3"
      ],
      "metadata": {
        "colab": {
          "base_uri": "https://localhost:8080/"
        },
        "id": "agxMvxeF6DwR",
        "outputId": "69d6d30d-8fec-4b1d-ab62-7f689f678b14"
      },
      "execution_count": null,
      "outputs": [
        {
          "output_type": "execute_result",
          "data": {
            "text/plain": [
              "array([[0., 0., 0.],\n",
              "       [0., 0., 0.]])"
            ]
          },
          "metadata": {},
          "execution_count": 9
        }
      ]
    },
    {
      "cell_type": "code",
      "source": [
        "# initializing numpy array with same number\n",
        "\n",
        "import numpy as np\n",
        "n1=np.full((2,3),10)\n",
        "n1"
      ],
      "metadata": {
        "colab": {
          "base_uri": "https://localhost:8080/"
        },
        "id": "nvN3LT_c62Ng",
        "outputId": "277af19e-f64e-4bf8-cdf1-b8d04797e833"
      },
      "execution_count": null,
      "outputs": [
        {
          "output_type": "execute_result",
          "data": {
            "text/plain": [
              "array([[10, 10, 10],\n",
              "       [10, 10, 10]])"
            ]
          },
          "metadata": {},
          "execution_count": 10
        }
      ]
    },
    {
      "cell_type": "code",
      "source": [
        "#initializing numpy array with a range\n",
        "\n",
        "import numpy as np\n",
        "n1=np.arange(10,20)\n",
        "n1"
      ],
      "metadata": {
        "colab": {
          "base_uri": "https://localhost:8080/"
        },
        "id": "EO-hGazn8Nas",
        "outputId": "0f24a35e-d523-466a-c16c-5e7f3db00f9b"
      },
      "execution_count": null,
      "outputs": [
        {
          "output_type": "execute_result",
          "data": {
            "text/plain": [
              "array([10, 11, 12, 13, 14, 15, 16, 17, 18, 19])"
            ]
          },
          "metadata": {},
          "execution_count": 11
        }
      ]
    },
    {
      "cell_type": "code",
      "source": [
        "import numpy as np\n",
        "n2=np.arange(10,50,5)\n",
        "n2"
      ],
      "metadata": {
        "colab": {
          "base_uri": "https://localhost:8080/"
        },
        "id": "Xlcm0ow89JqF",
        "outputId": "69a3059f-35d7-4aa1-88cd-2183715500c5"
      },
      "execution_count": null,
      "outputs": [
        {
          "output_type": "execute_result",
          "data": {
            "text/plain": [
              "array([10, 15, 20, 25, 30, 35, 40, 45])"
            ]
          },
          "metadata": {},
          "execution_count": 12
        }
      ]
    },
    {
      "cell_type": "code",
      "source": [
        "\n",
        "n3=np.arange(1,100,2)\n",
        "n3"
      ],
      "metadata": {
        "colab": {
          "base_uri": "https://localhost:8080/"
        },
        "id": "00dtoUlf9gy4",
        "outputId": "c24784cd-541e-412b-c2be-3e034113f4f9"
      },
      "execution_count": null,
      "outputs": [
        {
          "output_type": "execute_result",
          "data": {
            "text/plain": [
              "array([ 1,  3,  5,  7,  9, 11, 13, 15, 17, 19, 21, 23, 25, 27, 29, 31, 33,\n",
              "       35, 37, 39, 41, 43, 45, 47, 49, 51, 53, 55, 57, 59, 61, 63, 65, 67,\n",
              "       69, 71, 73, 75, 77, 79, 81, 83, 85, 87, 89, 91, 93, 95, 97, 99])"
            ]
          },
          "metadata": {},
          "execution_count": 13
        }
      ]
    },
    {
      "cell_type": "code",
      "source": [
        "#initializaing numpy array with random number\n",
        "\n",
        "import numpy as np\n",
        "a1=np.random.randint(1,100,5)\n",
        "a1\n"
      ],
      "metadata": {
        "colab": {
          "base_uri": "https://localhost:8080/"
        },
        "id": "HpEp2RaT-EVE",
        "outputId": "77db5d5f-062a-47d7-ff0c-a9f38c20e075"
      },
      "execution_count": null,
      "outputs": [
        {
          "output_type": "execute_result",
          "data": {
            "text/plain": [
              "array([27, 48, 18, 36, 55])"
            ]
          },
          "metadata": {},
          "execution_count": 14
        }
      ]
    },
    {
      "cell_type": "code",
      "source": [
        "a2=np.random.randint(1,100,5)\n",
        "a2"
      ],
      "metadata": {
        "colab": {
          "base_uri": "https://localhost:8080/"
        },
        "id": "p8GdD9aR-yXb",
        "outputId": "fe1fe28d-6411-4be5-de50-b72f3ec9031a"
      },
      "execution_count": null,
      "outputs": [
        {
          "output_type": "execute_result",
          "data": {
            "text/plain": [
              "array([11, 75, 73, 90, 44])"
            ]
          },
          "metadata": {},
          "execution_count": 15
        }
      ]
    },
    {
      "cell_type": "code",
      "source": [
        "#checking the shape of numpy array\n",
        "\n",
        "import numpy as np\n",
        "n1=np.array([[1,2,3],[4,5,6]])\n",
        "n1.shape"
      ],
      "metadata": {
        "colab": {
          "base_uri": "https://localhost:8080/"
        },
        "id": "mbhohQqJ_Lsw",
        "outputId": "6e27d711-740a-4849-96f1-83aa4048b45b"
      },
      "execution_count": null,
      "outputs": [
        {
          "output_type": "execute_result",
          "data": {
            "text/plain": [
              "(2, 3)"
            ]
          },
          "metadata": {},
          "execution_count": 16
        }
      ]
    },
    {
      "cell_type": "code",
      "source": [
        "n3=np.array([[2,3,4,5],[6,7,8,9],[11,33,22,44]])\n",
        "n3.shape"
      ],
      "metadata": {
        "colab": {
          "base_uri": "https://localhost:8080/"
        },
        "id": "FRNxtSig_0ij",
        "outputId": "c5fbceb4-0326-4029-e243-624fb4842555"
      },
      "execution_count": null,
      "outputs": [
        {
          "output_type": "execute_result",
          "data": {
            "text/plain": [
              "(3, 4)"
            ]
          },
          "metadata": {},
          "execution_count": 17
        }
      ]
    },
    {
      "cell_type": "code",
      "source": [
        "n3.shape=(4,3)\n",
        "n3.shape"
      ],
      "metadata": {
        "colab": {
          "base_uri": "https://localhost:8080/"
        },
        "id": "unaiNCEsAN4J",
        "outputId": "8a77b0e9-8898-40ba-c2c6-e7c299141859"
      },
      "execution_count": null,
      "outputs": [
        {
          "output_type": "execute_result",
          "data": {
            "text/plain": [
              "(4, 3)"
            ]
          },
          "metadata": {},
          "execution_count": 18
        }
      ]
    },
    {
      "cell_type": "code",
      "source": [
        "import numpy as np\n",
        "z1= np.array([[1,2,3,4,],[5,6,7,8]])\n",
        "z1"
      ],
      "metadata": {
        "colab": {
          "base_uri": "https://localhost:8080/"
        },
        "id": "c7-YgOqgtRAw",
        "outputId": "4c535f7e-b691-4506-b41f-a9776e82864f"
      },
      "execution_count": null,
      "outputs": [
        {
          "output_type": "execute_result",
          "data": {
            "text/plain": [
              "array([[1, 2, 3, 4],\n",
              "       [5, 6, 7, 8]])"
            ]
          },
          "metadata": {},
          "execution_count": 2
        }
      ]
    },
    {
      "cell_type": "code",
      "source": [
        "z1.shape=(4,2)\n",
        "z1"
      ],
      "metadata": {
        "colab": {
          "base_uri": "https://localhost:8080/"
        },
        "id": "BRGo0G0uvGMY",
        "outputId": "2caf9f94-382f-4c07-fda9-7dd1ca7d26e2"
      },
      "execution_count": null,
      "outputs": [
        {
          "output_type": "execute_result",
          "data": {
            "text/plain": [
              "array([[1, 2],\n",
              "       [3, 4],\n",
              "       [5, 6],\n",
              "       [7, 8]])"
            ]
          },
          "metadata": {},
          "execution_count": 20
        }
      ]
    },
    {
      "cell_type": "code",
      "source": [
        "z1.shape = (8,1)\n",
        "z1"
      ],
      "metadata": {
        "colab": {
          "base_uri": "https://localhost:8080/"
        },
        "id": "syxkB0eQvdvh",
        "outputId": "06396ea7-6be0-473d-8333-d5088e4aadf6"
      },
      "execution_count": null,
      "outputs": [
        {
          "output_type": "execute_result",
          "data": {
            "text/plain": [
              "array([[1],\n",
              "       [2],\n",
              "       [3],\n",
              "       [4],\n",
              "       [5],\n",
              "       [6],\n",
              "       [7],\n",
              "       [8]])"
            ]
          },
          "metadata": {},
          "execution_count": 4
        }
      ]
    },
    {
      "cell_type": "code",
      "source": [
        "#vstack()\n",
        "\n",
        "import numpy as np\n",
        "n1=np.array([10,20,30])\n",
        "n2=np.array([40,50,60])\n",
        "n3=np.array([70,80,90])\n",
        "\n",
        "np.vstack(((n1,n2,n3)))"
      ],
      "metadata": {
        "colab": {
          "base_uri": "https://localhost:8080/"
        },
        "id": "-0RRXwg-wl7e",
        "outputId": "2cb3a9de-107b-4e0e-d1dc-cff35424d727"
      },
      "execution_count": null,
      "outputs": [
        {
          "output_type": "execute_result",
          "data": {
            "text/plain": [
              "array([[10, 20, 30],\n",
              "       [40, 50, 60],\n",
              "       [70, 80, 90]])"
            ]
          },
          "metadata": {},
          "execution_count": 5
        }
      ]
    },
    {
      "cell_type": "code",
      "source": [
        "#hstack()\n",
        "\n",
        "import numpy as np\n",
        "n1=np.array([1,2,3,4])\n",
        "n2=np.array([5,6,7,8])\n",
        "np.hstack((n1,n2))"
      ],
      "metadata": {
        "colab": {
          "base_uri": "https://localhost:8080/"
        },
        "id": "dUjaew_2xknf",
        "outputId": "5bb5f388-75be-4246-87e4-c26b56628404"
      },
      "execution_count": null,
      "outputs": [
        {
          "output_type": "execute_result",
          "data": {
            "text/plain": [
              "array([1, 2, 3, 4, 5, 6, 7, 8])"
            ]
          },
          "metadata": {},
          "execution_count": 23
        }
      ]
    },
    {
      "cell_type": "code",
      "source": [
        "#column_stack()\n",
        "\n",
        "import numpy as np\n",
        "n1=np.array([11,22,33,44,55])\n",
        "n2=np.array([66,77,88,99,00])\n",
        "np.column_stack((n1,n2))"
      ],
      "metadata": {
        "colab": {
          "base_uri": "https://localhost:8080/"
        },
        "id": "5N1VH__9y_iO",
        "outputId": "91810ade-33ce-4d75-c5a5-798e1e6aa554"
      },
      "execution_count": null,
      "outputs": [
        {
          "output_type": "execute_result",
          "data": {
            "text/plain": [
              "array([[11, 66],\n",
              "       [22, 77],\n",
              "       [33, 88],\n",
              "       [44, 99],\n",
              "       [55,  0]])"
            ]
          },
          "metadata": {},
          "execution_count": 24
        }
      ]
    },
    {
      "cell_type": "code",
      "source": [
        ""
      ],
      "metadata": {
        "id": "boTUFqCVBy2f"
      },
      "execution_count": null,
      "outputs": []
    },
    {
      "cell_type": "code",
      "source": [
        "import numpy as np\n",
        "np.array([1,2,3,4,5,6])\n",
        "\n"
      ],
      "metadata": {
        "id": "P5XSEx4s-_i2",
        "colab": {
          "base_uri": "https://localhost:8080/"
        },
        "outputId": "51a1c5e0-6140-414d-89ed-7efd3088583c"
      },
      "execution_count": null,
      "outputs": [
        {
          "output_type": "execute_result",
          "data": {
            "text/plain": [
              "array([1, 2, 3, 4, 5, 6])"
            ]
          },
          "metadata": {},
          "execution_count": 48
        }
      ]
    },
    {
      "cell_type": "code",
      "source": [
        "import numpy as np\n",
        "print(np.__version__)\n",
        "print(type(array))"
      ],
      "metadata": {
        "colab": {
          "base_uri": "https://localhost:8080/"
        },
        "id": "ilhPb9dWOUw-",
        "outputId": "3eb3d3fe-7382-4b88-a23f-f01cf587a18e"
      },
      "execution_count": null,
      "outputs": [
        {
          "output_type": "stream",
          "name": "stdout",
          "text": [
            "1.21.5\n",
            "<class 'numpy.ndarray'>\n"
          ]
        }
      ]
    },
    {
      "cell_type": "code",
      "source": [
        "import numpy as np\n",
        "arr=np.array((1,2,3,4,5))\n",
        "print(arr)"
      ],
      "metadata": {
        "colab": {
          "base_uri": "https://localhost:8080/"
        },
        "id": "O5gB3gzBQGrS",
        "outputId": "fd1484e4-cd27-4d71-808e-b6a85b91333d"
      },
      "execution_count": null,
      "outputs": [
        {
          "output_type": "stream",
          "name": "stdout",
          "text": [
            "[1 2 3 4 5]\n"
          ]
        }
      ]
    },
    {
      "cell_type": "code",
      "source": [
        "#intersect1d\n",
        "\n",
        "import numpy as np\n",
        "n1=np.array([10,20,30,40,50,60])\n",
        "n2=np.array([50,60,70,80,90])\n",
        "np.intersect1d(n1,n2)\n"
      ],
      "metadata": {
        "id": "Efrs3rp7SVZN",
        "colab": {
          "base_uri": "https://localhost:8080/"
        },
        "outputId": "7548a43e-91b9-456f-c465-9d1902122464"
      },
      "execution_count": null,
      "outputs": [
        {
          "output_type": "execute_result",
          "data": {
            "text/plain": [
              "array([50, 60])"
            ]
          },
          "metadata": {},
          "execution_count": 1
        }
      ]
    },
    {
      "cell_type": "code",
      "source": [
        "import numpy as np\n",
        "n1=np.array([10,20,30,40,50,60])\n",
        "n2=np.array([50,60,70,80,90])\n",
        "np.setdiff1d(n1,n2)"
      ],
      "metadata": {
        "colab": {
          "base_uri": "https://localhost:8080/"
        },
        "id": "q7VkvUzUxiQQ",
        "outputId": "c3306408-93ac-46c1-e497-39a249467795"
      },
      "execution_count": null,
      "outputs": [
        {
          "output_type": "execute_result",
          "data": {
            "text/plain": [
              "array([10, 20, 30, 40])"
            ]
          },
          "metadata": {},
          "execution_count": 2
        }
      ]
    },
    {
      "cell_type": "code",
      "source": [
        "import numpy as np\n",
        "n1=np.array([10,20,30,40,50,60])\n",
        "n2=np.array([50,60,70,80,90])\n",
        "np.setdiff1d(n2,n1)"
      ],
      "metadata": {
        "colab": {
          "base_uri": "https://localhost:8080/"
        },
        "id": "nIQRgKd0yXMP",
        "outputId": "31cb5cc6-5182-48ce-adda-18c659c4dc3f"
      },
      "execution_count": null,
      "outputs": [
        {
          "output_type": "execute_result",
          "data": {
            "text/plain": [
              "array([70, 80, 90])"
            ]
          },
          "metadata": {},
          "execution_count": 3
        }
      ]
    },
    {
      "cell_type": "code",
      "source": [
        "import numpy as np\n",
        "n1=np.array([10,30])\n",
        "n2=np.array([20,40])\n",
        "np.sum([n1,n2])"
      ],
      "metadata": {
        "colab": {
          "base_uri": "https://localhost:8080/"
        },
        "id": "f3XV0KIkyveK",
        "outputId": "5ce0f362-0bfb-4fb9-f220-348c93c40c06"
      },
      "execution_count": null,
      "outputs": [
        {
          "output_type": "execute_result",
          "data": {
            "text/plain": [
              "100"
            ]
          },
          "metadata": {},
          "execution_count": 18
        }
      ]
    },
    {
      "cell_type": "code",
      "source": [
        "import numpy as np\n",
        "n1=np.array([11.2,22.2])\n",
        "n2=np.array([10.1,11.4])\n",
        "np.sum([n1,n2])"
      ],
      "metadata": {
        "colab": {
          "base_uri": "https://localhost:8080/"
        },
        "id": "kraCEuBt0WEN",
        "outputId": "3014b06b-a03c-488a-eb4d-b37482eaa9eb"
      },
      "execution_count": null,
      "outputs": [
        {
          "output_type": "execute_result",
          "data": {
            "text/plain": [
              "54.9"
            ]
          },
          "metadata": {},
          "execution_count": 5
        }
      ]
    },
    {
      "cell_type": "code",
      "source": [
        "np.sum([n1,n2],axis=0)"
      ],
      "metadata": {
        "colab": {
          "base_uri": "https://localhost:8080/"
        },
        "id": "Yd6GDOYJ0zNz",
        "outputId": "b88d6316-251f-48ba-f229-bc91fdeb8c5c"
      },
      "execution_count": null,
      "outputs": [
        {
          "output_type": "execute_result",
          "data": {
            "text/plain": [
              "array([30, 70])"
            ]
          },
          "metadata": {},
          "execution_count": 19
        }
      ]
    },
    {
      "cell_type": "code",
      "source": [
        "np.sum([n1,n2],axis=1)"
      ],
      "metadata": {
        "colab": {
          "base_uri": "https://localhost:8080/"
        },
        "id": "PLHVV-1Z1KvK",
        "outputId": "a7516311-eb80-41df-cf58-db034ad91943"
      },
      "execution_count": null,
      "outputs": [
        {
          "output_type": "execute_result",
          "data": {
            "text/plain": [
              "array([33.4, 21.5])"
            ]
          },
          "metadata": {},
          "execution_count": 14
        }
      ]
    },
    {
      "cell_type": "code",
      "source": [
        "# Basic addition\n",
        "import numpy as np\n",
        "n1=np.array([10,20,30])\n",
        "n1=n1+1\n",
        "n1\n"
      ],
      "metadata": {
        "colab": {
          "base_uri": "https://localhost:8080/"
        },
        "id": "IZVhKVtF1Vsy",
        "outputId": "2f592511-7447-4a35-cbfb-80f3138f1213"
      },
      "execution_count": null,
      "outputs": [
        {
          "output_type": "execute_result",
          "data": {
            "text/plain": [
              "array([11, 21, 31])"
            ]
          },
          "metadata": {},
          "execution_count": 21
        }
      ]
    },
    {
      "cell_type": "code",
      "source": [
        "import numpy as np\n",
        "n1=np.array([10,20,30])\n",
        "n1=n1+2\n",
        "n1"
      ],
      "metadata": {
        "colab": {
          "base_uri": "https://localhost:8080/"
        },
        "id": "D-GmZfZ64zVn",
        "outputId": "ba8e39ea-5e0f-4360-a757-1f9efc7a04e4"
      },
      "execution_count": null,
      "outputs": [
        {
          "output_type": "execute_result",
          "data": {
            "text/plain": [
              "array([12, 22, 32])"
            ]
          },
          "metadata": {},
          "execution_count": 22
        }
      ]
    },
    {
      "cell_type": "code",
      "source": [
        "#Basic multiplication\n",
        "\n",
        "import numpy as np\n",
        "n1=np.array([10,20,30])\n",
        "n1=n1*2\n",
        "n1 "
      ],
      "metadata": {
        "colab": {
          "base_uri": "https://localhost:8080/"
        },
        "id": "b8qPKwS749XP",
        "outputId": "634d259f-b0ea-4518-ca5b-1bdf4aa626c1"
      },
      "execution_count": null,
      "outputs": [
        {
          "output_type": "execute_result",
          "data": {
            "text/plain": [
              "array([20, 40, 60])"
            ]
          },
          "metadata": {},
          "execution_count": 23
        }
      ]
    },
    {
      "cell_type": "code",
      "source": [
        "import numpy as np\n",
        "n1=np.array([10,20,30])\n",
        "n1=n1*1.1\n",
        "n1 "
      ],
      "metadata": {
        "colab": {
          "base_uri": "https://localhost:8080/"
        },
        "id": "dBLpNjz-5RU-",
        "outputId": "937ec116-308b-49f9-ee9f-e65649e16d5e"
      },
      "execution_count": null,
      "outputs": [
        {
          "output_type": "execute_result",
          "data": {
            "text/plain": [
              "array([11., 22., 33.])"
            ]
          },
          "metadata": {},
          "execution_count": 24
        }
      ]
    },
    {
      "cell_type": "code",
      "source": [
        "#Basaic subtraction\n",
        "\n",
        "import numpy as np\n",
        "n1=np.array([10,20,30,40,50])\n",
        "n1=n1-5\n",
        "n1"
      ],
      "metadata": {
        "colab": {
          "base_uri": "https://localhost:8080/"
        },
        "id": "zdNrQk565Ydd",
        "outputId": "422d5882-5c01-4ab6-b186-3af6be2b4b8e"
      },
      "execution_count": null,
      "outputs": [
        {
          "output_type": "execute_result",
          "data": {
            "text/plain": [
              "array([ 5, 15, 25, 35, 45])"
            ]
          },
          "metadata": {},
          "execution_count": 33
        }
      ]
    },
    {
      "cell_type": "code",
      "source": [
        "#Basic division\n",
        "\n",
        "import numpy as np\n",
        "n1=np.array([10,20,30,40,50,60])\n",
        "n1=n1/2\n",
        "n1"
      ],
      "metadata": {
        "colab": {
          "base_uri": "https://localhost:8080/"
        },
        "id": "Fp_bj4Ee53Pd",
        "outputId": "6889d966-6712-49d1-d511-3a3fc5ba4e65"
      },
      "execution_count": null,
      "outputs": [
        {
          "output_type": "execute_result",
          "data": {
            "text/plain": [
              "array([ 5., 10., 15., 20., 25., 30.])"
            ]
          },
          "metadata": {},
          "execution_count": 26
        }
      ]
    },
    {
      "cell_type": "code",
      "source": [
        "import numpy as np\n",
        "n1=np.array([10,20,30,40,50,60])\n",
        "n1=n1//2\n",
        "n1"
      ],
      "metadata": {
        "colab": {
          "base_uri": "https://localhost:8080/"
        },
        "id": "VcopFbxd5-Gk",
        "outputId": "d53f5ef5-b765-4911-a632-14b77ecd0978"
      },
      "execution_count": null,
      "outputs": [
        {
          "output_type": "execute_result",
          "data": {
            "text/plain": [
              "array([ 5, 10, 15, 20, 25, 30])"
            ]
          },
          "metadata": {},
          "execution_count": 29
        }
      ]
    },
    {
      "cell_type": "code",
      "source": [
        "import numpy as np\n",
        "n1=np.array([10,20,30,40,50,60])\n",
        "n1=n1%3\n",
        "n1"
      ],
      "metadata": {
        "colab": {
          "base_uri": "https://localhost:8080/"
        },
        "id": "9RRVtzHi7GA7",
        "outputId": "1715e686-b1a2-4cf6-effc-a1be46f8a077"
      },
      "execution_count": null,
      "outputs": [
        {
          "output_type": "execute_result",
          "data": {
            "text/plain": [
              "array([1, 2, 0, 1, 2, 0])"
            ]
          },
          "metadata": {},
          "execution_count": 31
        }
      ]
    },
    {
      "cell_type": "code",
      "source": [
        "import numpy as np\n",
        "n1=np.array([10,20,30,40,50,60])\n",
        "n1=n1**2\n",
        "n1"
      ],
      "metadata": {
        "colab": {
          "base_uri": "https://localhost:8080/"
        },
        "id": "oNe1P9ry78Rz",
        "outputId": "c96f8768-6e93-4e34-bcbb-e3dea229f7a0"
      },
      "execution_count": null,
      "outputs": [
        {
          "output_type": "execute_result",
          "data": {
            "text/plain": [
              "array([ 100,  400,  900, 1600, 2500, 3600])"
            ]
          },
          "metadata": {},
          "execution_count": 32
        }
      ]
    },
    {
      "cell_type": "code",
      "source": [
        "#mean\n",
        "import numpy as np\n",
        "n1=np.array([10,20,30,40,50,60])\n",
        "np.mean(n1)"
      ],
      "metadata": {
        "colab": {
          "base_uri": "https://localhost:8080/"
        },
        "id": "FpzQzV3g8ILi",
        "outputId": "61e9be14-3580-4c7f-b551-88dd5d000a09"
      },
      "execution_count": null,
      "outputs": [
        {
          "output_type": "execute_result",
          "data": {
            "text/plain": [
              "35.0"
            ]
          },
          "metadata": {},
          "execution_count": 34
        }
      ]
    },
    {
      "cell_type": "code",
      "source": [
        "#median\n",
        "import numpy as np\n",
        "n1=np.array([10,20,30,40,50,60])\n",
        "np.median(n1)"
      ],
      "metadata": {
        "colab": {
          "base_uri": "https://localhost:8080/"
        },
        "id": "JJeS2RF199Rp",
        "outputId": "e32a4393-d0b4-4ac0-fd54-5e47f163dc81"
      },
      "execution_count": null,
      "outputs": [
        {
          "output_type": "execute_result",
          "data": {
            "text/plain": [
              "35.0"
            ]
          },
          "metadata": {},
          "execution_count": 38
        }
      ]
    },
    {
      "cell_type": "code",
      "source": [
        "import numpy as np\n",
        "n1=np.array([23,56,78,98])\n",
        "np.std(n1)"
      ],
      "metadata": {
        "colab": {
          "base_uri": "https://localhost:8080/"
        },
        "id": "YNQfjS1U-Urg",
        "outputId": "cc273136-6916-4192-9b2f-c6bbe807ad7c"
      },
      "execution_count": null,
      "outputs": [
        {
          "output_type": "execute_result",
          "data": {
            "text/plain": [
              "1.854723699099141"
            ]
          },
          "metadata": {},
          "execution_count": 41
        }
      ]
    },
    {
      "cell_type": "code",
      "source": [
        "import numpy as np\n",
        "n1=np.random.randint(1,50,10)\n",
        "n1"
      ],
      "metadata": {
        "colab": {
          "base_uri": "https://localhost:8080/"
        },
        "id": "lnjXU5PTPN4H",
        "outputId": "a48d2e7b-99ae-4216-ecc3-59e6d90c9137"
      },
      "execution_count": null,
      "outputs": [
        {
          "output_type": "execute_result",
          "data": {
            "text/plain": [
              "array([ 4, 41, 29, 31, 34, 47, 28, 23, 29,  2])"
            ]
          },
          "metadata": {},
          "execution_count": 6
        }
      ]
    },
    {
      "cell_type": "code",
      "source": [
        "np.mean(n1)"
      ],
      "metadata": {
        "id": "djzVbBnFBtbL",
        "colab": {
          "base_uri": "https://localhost:8080/"
        },
        "outputId": "8832afe0-1e55-4894-ad09-9e9c9e0c8399"
      },
      "execution_count": null,
      "outputs": [
        {
          "output_type": "execute_result",
          "data": {
            "text/plain": [
              "26.8"
            ]
          },
          "metadata": {},
          "execution_count": 7
        }
      ]
    },
    {
      "cell_type": "code",
      "source": [
        "#numpy save $ load\n",
        "\n",
        "# saving numpy array\n",
        "import numpy as np\n",
        "n1=np.array([10,20,30,40,50])\n",
        "np.save('my_numpy',n1)"
      ],
      "metadata": {
        "id": "6ShbOmvgQhw6"
      },
      "execution_count": null,
      "outputs": []
    },
    {
      "cell_type": "code",
      "source": [
        "n1=np.load('my_numpy.npy')\n",
        "n1"
      ],
      "metadata": {
        "colab": {
          "base_uri": "https://localhost:8080/"
        },
        "id": "74qbnX36W27N",
        "outputId": "1a07b54f-4ea3-40f8-e17b-001dd0e4d68f"
      },
      "execution_count": null,
      "outputs": [
        {
          "output_type": "execute_result",
          "data": {
            "text/plain": [
              "array([10, 20, 30, 40, 50])"
            ]
          },
          "metadata": {},
          "execution_count": 13
        }
      ]
    },
    {
      "cell_type": "code",
      "source": [
        "n1"
      ],
      "metadata": {
        "colab": {
          "base_uri": "https://localhost:8080/"
        },
        "id": "SGMZIwYXZNr-",
        "outputId": "40a0eafc-fb79-4960-cf3c-5cfd34988e22"
      },
      "execution_count": null,
      "outputs": [
        {
          "output_type": "execute_result",
          "data": {
            "text/plain": [
              "array([10, 20, 30, 40, 50])"
            ]
          },
          "metadata": {},
          "execution_count": 16
        }
      ]
    },
    {
      "cell_type": "code",
      "source": [
        "np.save('myarray',n1)\n",
        "new_n1=np.load('myarray.npy')\n",
        "new_n1"
      ],
      "metadata": {
        "colab": {
          "base_uri": "https://localhost:8080/"
        },
        "id": "nd62lQUsXDdJ",
        "outputId": "84f9909f-f71f-4260-f287-1a9eb3da3e5c"
      },
      "execution_count": null,
      "outputs": [
        {
          "output_type": "execute_result",
          "data": {
            "text/plain": [
              "array([10, 20, 30, 40, 50])"
            ]
          },
          "metadata": {},
          "execution_count": 17
        }
      ]
    },
    {
      "cell_type": "code",
      "source": [
        "# eye()\n",
        "import numpy as np\n",
        "arr=np.eye(3)\n",
        "arr"
      ],
      "metadata": {
        "id": "2bMmV_suYquu",
        "colab": {
          "base_uri": "https://localhost:8080/"
        },
        "outputId": "a577ef23-601f-40a4-c531-31bd6334efcd"
      },
      "execution_count": null,
      "outputs": [
        {
          "output_type": "execute_result",
          "data": {
            "text/plain": [
              "array([[1., 0., 0.],\n",
              "       [0., 1., 0.],\n",
              "       [0., 0., 1.]])"
            ]
          },
          "metadata": {},
          "execution_count": 1
        }
      ]
    },
    {
      "cell_type": "code",
      "source": [
        "import numpy as np\n",
        "arr=np.eye(3,4)\n",
        "arr"
      ],
      "metadata": {
        "colab": {
          "base_uri": "https://localhost:8080/"
        },
        "id": "ewICVgU8G0O5",
        "outputId": "d3a361bd-6384-4375-9824-f9c7f666a8e5"
      },
      "execution_count": null,
      "outputs": [
        {
          "output_type": "execute_result",
          "data": {
            "text/plain": [
              "array([[1., 0., 0., 0.],\n",
              "       [0., 1., 0., 0.],\n",
              "       [0., 0., 1., 0.]])"
            ]
          },
          "metadata": {},
          "execution_count": 2
        }
      ]
    },
    {
      "cell_type": "code",
      "source": [
        "arr=np.eye(3,3)\n",
        "arr"
      ],
      "metadata": {
        "colab": {
          "base_uri": "https://localhost:8080/"
        },
        "id": "10aJ8-SfG_H-",
        "outputId": "78b37cd5-8766-4d71-d38e-ecf12409ce07"
      },
      "execution_count": null,
      "outputs": [
        {
          "output_type": "execute_result",
          "data": {
            "text/plain": [
              "array([[1., 0., 0.],\n",
              "       [0., 1., 0.],\n",
              "       [0., 0., 1.]])"
            ]
          },
          "metadata": {},
          "execution_count": 3
        }
      ]
    },
    {
      "cell_type": "code",
      "source": [
        "arr=np.eye(4,4)\n",
        "arr"
      ],
      "metadata": {
        "colab": {
          "base_uri": "https://localhost:8080/"
        },
        "id": "cvvzSxY0HF6q",
        "outputId": "065bbdd6-7423-49fb-fd45-8c59328af250"
      },
      "execution_count": null,
      "outputs": [
        {
          "output_type": "execute_result",
          "data": {
            "text/plain": [
              "array([[1., 0., 0., 0.],\n",
              "       [0., 1., 0., 0.],\n",
              "       [0., 0., 1., 0.],\n",
              "       [0., 0., 0., 1.]])"
            ]
          },
          "metadata": {},
          "execution_count": 6
        }
      ]
    },
    {
      "cell_type": "code",
      "source": [
        "# diag()\n",
        "import numpy as np\n",
        "arr=np.diag((1,3,5,7))\n",
        "arr"
      ],
      "metadata": {
        "colab": {
          "base_uri": "https://localhost:8080/"
        },
        "id": "lyqedAm6HM_a",
        "outputId": "cece7981-d43d-438f-fd96-edb438db8de4"
      },
      "execution_count": null,
      "outputs": [
        {
          "output_type": "execute_result",
          "data": {
            "text/plain": [
              "array([[1, 0, 0, 0],\n",
              "       [0, 3, 0, 0],\n",
              "       [0, 0, 5, 0],\n",
              "       [0, 0, 0, 7]])"
            ]
          },
          "metadata": {},
          "execution_count": 8
        }
      ]
    },
    {
      "cell_type": "code",
      "source": [
        "arr=np.diag([2,4,6,8])\n",
        "arr"
      ],
      "metadata": {
        "colab": {
          "base_uri": "https://localhost:8080/"
        },
        "id": "LqvDd9xoIA3c",
        "outputId": "d5318336-7221-4b78-b7d2-84f94d032a98"
      },
      "execution_count": null,
      "outputs": [
        {
          "output_type": "execute_result",
          "data": {
            "text/plain": [
              "array([[2, 0, 0, 0],\n",
              "       [0, 4, 0, 0],\n",
              "       [0, 0, 6, 0],\n",
              "       [0, 0, 0, 8]])"
            ]
          },
          "metadata": {},
          "execution_count": 9
        }
      ]
    },
    {
      "cell_type": "code",
      "source": [
        "# randint()\n",
        "import numpy as np\n",
        "arr=np.random.randint(1,10,3)\n",
        "arr\n"
      ],
      "metadata": {
        "id": "GXEtBTYbIbu8",
        "colab": {
          "base_uri": "https://localhost:8080/"
        },
        "outputId": "32b4ee83-42fd-47a7-e090-8a53bc01c87d"
      },
      "execution_count": null,
      "outputs": [
        {
          "output_type": "execute_result",
          "data": {
            "text/plain": [
              "array([8, 8, 6])"
            ]
          },
          "metadata": {},
          "execution_count": 10
        }
      ]
    },
    {
      "cell_type": "code",
      "source": [
        "# rand()          ## random values between 0 t0 1\n",
        "import numpy as np\n",
        "arr=np.random.rand(5)\n",
        "arr"
      ],
      "metadata": {
        "colab": {
          "base_uri": "https://localhost:8080/"
        },
        "id": "riBtYIIPOBB6",
        "outputId": "921ee45d-1be4-4471-d884-25925df5b831"
      },
      "execution_count": null,
      "outputs": [
        {
          "output_type": "execute_result",
          "data": {
            "text/plain": [
              "array([0.25284452, 0.8774609 , 0.98252734, 0.45934656, 0.3337363 ])"
            ]
          },
          "metadata": {},
          "execution_count": 11
        }
      ]
    },
    {
      "cell_type": "code",
      "source": [
        "# randn()   ##random values close to 0 (positive,negative)\n",
        "import numpy as np\n",
        "arr=np.random.randn(3)\n",
        "arr\n"
      ],
      "metadata": {
        "colab": {
          "base_uri": "https://localhost:8080/"
        },
        "id": "3KpCToN_OiZf",
        "outputId": "11cead69-e900-4a57-f383-4c434f5b93c4"
      },
      "execution_count": null,
      "outputs": [
        {
          "output_type": "execute_result",
          "data": {
            "text/plain": [
              "array([0.34059924, 1.6866111 , 0.82973195])"
            ]
          },
          "metadata": {},
          "execution_count": 12
        }
      ]
    },
    {
      "cell_type": "code",
      "source": [
        "arr=np.random.randn(4)\n",
        "arr"
      ],
      "metadata": {
        "colab": {
          "base_uri": "https://localhost:8080/"
        },
        "id": "vSPKyI9DPnWJ",
        "outputId": "2d1a6464-49bc-48a8-e117-d50821c8ef69"
      },
      "execution_count": null,
      "outputs": [
        {
          "output_type": "execute_result",
          "data": {
            "text/plain": [
              "array([-0.67959482, -1.00001914, -2.18023738,  1.30589681])"
            ]
          },
          "metadata": {},
          "execution_count": 13
        }
      ]
    },
    {
      "cell_type": "code",
      "source": [
        "#arr.reshape\n",
        "import numpy as np\n",
        "arr=np.random.randint(1,100,12)\n",
        "arr=arr.reshape(3,4)\n",
        "arr"
      ],
      "metadata": {
        "colab": {
          "base_uri": "https://localhost:8080/"
        },
        "id": "FMPSnH7iPx5I",
        "outputId": "a5681ae5-d2c8-4fe7-acff-acf8024968a6"
      },
      "execution_count": null,
      "outputs": [
        {
          "output_type": "execute_result",
          "data": {
            "text/plain": [
              "array([[65,  8, 73, 10],\n",
              "       [33, 55, 94, 43],\n",
              "       [62, 93, 92, 59]])"
            ]
          },
          "metadata": {},
          "execution_count": 24
        }
      ]
    },
    {
      "cell_type": "code",
      "source": [
        "import numpy as np\n",
        "arr=np.random.randint(3,200,6)\n",
        "arr=arr.reshape(2,3)\n",
        "arr"
      ],
      "metadata": {
        "colab": {
          "base_uri": "https://localhost:8080/"
        },
        "id": "qgb_UE9-Qf64",
        "outputId": "21db16db-b90b-496c-dc31-97f0176b8dac"
      },
      "execution_count": null,
      "outputs": [
        {
          "output_type": "execute_result",
          "data": {
            "text/plain": [
              "array([[31, 77,  9],\n",
              "       [51, 94, 46]])"
            ]
          },
          "metadata": {},
          "execution_count": 31
        }
      ]
    },
    {
      "cell_type": "code",
      "source": [
        ""
      ],
      "metadata": {
        "id": "61hBwNT2SALo"
      },
      "execution_count": null,
      "outputs": []
    }
  ]
}